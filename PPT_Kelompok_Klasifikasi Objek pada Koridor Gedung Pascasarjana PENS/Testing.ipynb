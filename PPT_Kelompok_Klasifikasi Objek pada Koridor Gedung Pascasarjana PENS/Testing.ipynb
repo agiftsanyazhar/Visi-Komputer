{
 "cells": [
  {
   "cell_type": "code",
   "execution_count": 1,
   "metadata": {},
   "outputs": [],
   "source": [
    "import cv2\n",
    "import numpy as np\n",
    "from tensorflow.keras.models import load_model  # Fix the import statement\n",
    "import os"
   ]
  },
  {
   "cell_type": "code",
   "execution_count": 2,
   "metadata": {},
   "outputs": [],
   "source": [
    "# Load the CNN model\n",
    "model_path = \"model/disaster.h5\"\n",
    "model = load_model(model_path)"
   ]
  },
  {
   "cell_type": "code",
   "execution_count": 3,
   "metadata": {},
   "outputs": [],
   "source": [
    "# Dictionary to map class indices to class labels\n",
    "class_indices = {\n",
    "    \"apple\": 0,\n",
    "    \"banana\": 1,\n",
    "    \"beetroot\": 2,\n",
    "    \"bell pepper\": 3,\n",
    "    \"cabbage\": 4,\n",
    "    \"capsicum\": 5,\n",
    "    \"carrot\": 6,\n",
    "    \"cauliflower\": 7,\n",
    "}"
   ]
  },
  {
   "cell_type": "code",
   "execution_count": 4,
   "metadata": {},
   "outputs": [],
   "source": [
    "# Folder path containing images to predict\n",
    "folder_path = \"augmented_images/test/apple\""
   ]
  },
  {
   "cell_type": "code",
   "execution_count": 5,
   "metadata": {},
   "outputs": [
    {
     "name": "stdout",
     "output_type": "stream",
     "text": [
      "Image: Image_10_0.jpg, Predicted Class: carrot\n",
      "Image: Image_10_1.jpg, Predicted Class: carrot\n",
      "Image: Image_10_2.jpg, Predicted Class: apple\n",
      "Image: Image_10_3.jpg, Predicted Class: beetroot\n",
      "Image: Image_10_4.jpg, Predicted Class: apple\n",
      "Image: Image_10_5.jpg, Predicted Class: banana\n",
      "Image: Image_10_6.jpg, Predicted Class: apple\n",
      "Image: Image_10_7.jpg, Predicted Class: beetroot\n",
      "Image: Image_10_8.jpg, Predicted Class: carrot\n",
      "Image: Image_10_9.jpg, Predicted Class: capsicum\n"
     ]
    }
   ],
   "source": [
    "# Iterate through each file in the folder\n",
    "for filename in os.listdir(folder_path):\n",
    "    if filename.endswith(\".jpg\") or filename.endswith(\n",
    "        \".jpeg\"\n",
    "    ):  # Adjust file extensions as needed\n",
    "        # Full path to the image file\n",
    "        image_path = os.path.join(folder_path, filename)\n",
    "\n",
    "        # Load and preprocess the image\n",
    "        img = cv2.imread(image_path)\n",
    "        img = cv2.resize(img, (100, 100))  # Replace with your desired input size\n",
    "        img = np.expand_dims(img, axis=0)  # Add batch dimension\n",
    "\n",
    "        # Make predictions\n",
    "        predictions = model.predict(img)\n",
    "\n",
    "        # Get the predicted class index\n",
    "        predicted_class_index = np.argmax(predictions)\n",
    "\n",
    "        # Map the predicted class index to the class label\n",
    "        predicted_class_label = [\n",
    "            key\n",
    "            for key, value in class_indices.items()\n",
    "            if value == predicted_class_index\n",
    "        ][0]\n",
    "\n",
    "        print(f\"Image: {filename}, Predicted Class: {predicted_class_label}\")"
   ]
  }
 ],
 "metadata": {
  "kernelspec": {
   "display_name": ".venv",
   "language": "python",
   "name": "python3"
  },
  "language_info": {
   "codemirror_mode": {
    "name": "ipython",
    "version": 3
   },
   "file_extension": ".py",
   "mimetype": "text/x-python",
   "name": "python",
   "nbconvert_exporter": "python",
   "pygments_lexer": "ipython3",
   "version": "3.9.13"
  },
  "orig_nbformat": 4
 },
 "nbformat": 4,
 "nbformat_minor": 2
}
