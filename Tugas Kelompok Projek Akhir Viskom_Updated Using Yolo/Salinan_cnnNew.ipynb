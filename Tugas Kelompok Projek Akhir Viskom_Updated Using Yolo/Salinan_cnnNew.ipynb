{
  "cells": [
    {
      "cell_type": "code",
      "execution_count": null,
      "metadata": {
        "id": "GGHZp3YF16Xv"
      },
      "outputs": [],
      "source": [
        "import os\n",
        "base_dir = \"/content/drive/MyDrive/CNN_Image4_5/koridor-lt4-classify-main\"\n",
        "train_dir = os.path.join(base_dir, 'training_set')\n",
        "validation_dir = os.path.join(base_dir, 'test_set')\n",
        "test_dir = os.path.join(base_dir, 'single_prediction')\n",
        "folders=os.listdir(train_dir)"
      ]
    },
    {
      "cell_type": "code",
      "execution_count": null,
      "metadata": {
        "colab": {
          "base_uri": "https://localhost:8080/"
        },
        "id": "PsfQpAoLez9g",
        "outputId": "1218b132-8ef4-49eb-8909-8188aa681dcd"
      },
      "outputs": [
        {
          "name": "stdout",
          "output_type": "stream",
          "text": [
            "Found 5839 images belonging to 8 classes.\n",
            "Found 2576 images belonging to 8 classes.\n"
          ]
        }
      ],
      "source": [
        "from tensorflow.keras.preprocessing.image import ImageDataGenerator\n",
        "train_datagen = ImageDataGenerator(rescale=1./255)\n",
        "val_datagen = ImageDataGenerator(rescale=1./255)\n",
        "train_generator = train_datagen.flow_from_directory(\n",
        "train_dir,\n",
        "target_size=(100, 50),\n",
        "batch_size=32)\n",
        "validation_generator = val_datagen.flow_from_directory(\n",
        "validation_dir,\n",
        "target_size=(100, 50),\n",
        "batch_size=32)"
      ]
    },
    {
      "cell_type": "code",
      "execution_count": null,
      "metadata": {
        "colab": {
          "base_uri": "https://localhost:8080/"
        },
        "id": "yzarGvYafEZf",
        "outputId": "b23f233b-74b6-42d9-decf-4939305b1c29"
      },
      "outputs": [
        {
          "name": "stdout",
          "output_type": "stream",
          "text": [
            "Nama Kelas Train: {'apar': 0, 'kelas': 1, 'koridor': 2, 'lift': 3, 'orang': 4, 'pintu_darurat': 5, 'pintu_ruang': 6, 'tangga': 7}\n",
            "Nama Kelas Validation: {'apar': 0, 'kelas': 1, 'koridor': 2, 'lift': 3, 'orang': 4, 'pintu_darurat': 5, 'pintu_ruang': 6, 'tangga': 7}\n"
          ]
        }
      ],
      "source": [
        "class_names_train = train_generator.class_indices\n",
        "class_names_validation = validation_generator.class_indices\n",
        "\n",
        "print(\"Nama Kelas Train:\", class_names_train)\n",
        "print(\"Nama Kelas Validation:\", class_names_validation)\n"
      ]
    },
    {
      "cell_type": "code",
      "execution_count": null,
      "metadata": {
        "id": "MhtZchVefIj6"
      },
      "outputs": [],
      "source": [
        "from tensorflow.keras import layers\n",
        "from tensorflow.keras import Model\n",
        "img_input = layers.Input(shape=(100, 50, 3))\n",
        "x = layers.Conv2D(16, 3, activation='relu')(img_input)\n",
        "x = layers.MaxPooling2D(2)(x)\n",
        "x = layers.Conv2D(32, 3, activation='relu')(x)\n",
        "x = layers.MaxPooling2D(2)(x)\n",
        "x = layers.Flatten()(x)\n",
        "x = layers.Dense(50, activation='sigmoid')(x)\n",
        "output = layers.Dense(8, activation='softmax')(x)\n",
        "model = Model(img_input, output)\n",
        "model.compile(loss='mean_squared_error', optimizer='SGD', metrics=['acc'])\n"
      ]
    },
    {
      "cell_type": "code",
      "execution_count": null,
      "metadata": {
        "colab": {
          "base_uri": "https://localhost:8080/"
        },
        "id": "PsD1o6UTfT3-",
        "outputId": "83e95728-d3da-4a69-a820-e5d9d0365f24"
      },
      "outputs": [
        {
          "name": "stderr",
          "output_type": "stream",
          "text": [
            "<ipython-input-19-ad4a59a6b160>:1: UserWarning: `Model.fit_generator` is deprecated and will be removed in a future version. Please use `Model.fit`, which supports generators.\n",
            "  history = model.fit_generator(\n"
          ]
        },
        {
          "name": "stdout",
          "output_type": "stream",
          "text": [
            "Epoch 1/100\n",
            "182/182 - 65s - loss: 0.1204 - acc: 0.0472 - val_loss: 0.1148 - val_acc: 0.0098 - 65s/epoch - 355ms/step\n",
            "Epoch 2/100\n",
            "182/182 - 44s - loss: 0.1104 - acc: 0.1877 - val_loss: 0.1057 - val_acc: 0.2082 - 44s/epoch - 241ms/step\n",
            "Epoch 3/100\n",
            "182/182 - 50s - loss: 0.1008 - acc: 0.2976 - val_loss: 0.0957 - val_acc: 0.4402 - 50s/epoch - 277ms/step\n",
            "Epoch 4/100\n",
            "182/182 - 56s - loss: 0.0945 - acc: 0.4336 - val_loss: 0.0928 - val_acc: 0.4430 - 56s/epoch - 309ms/step\n",
            "Epoch 5/100\n",
            "182/182 - 43s - loss: 0.0933 - acc: 0.4338 - val_loss: 0.0920 - val_acc: 0.4449 - 43s/epoch - 238ms/step\n",
            "Epoch 6/100\n",
            "182/182 - 45s - loss: 0.0928 - acc: 0.4329 - val_loss: 0.0914 - val_acc: 0.4445 - 45s/epoch - 249ms/step\n",
            "Epoch 7/100\n",
            "182/182 - 50s - loss: 0.0922 - acc: 0.4338 - val_loss: 0.0908 - val_acc: 0.4441 - 50s/epoch - 276ms/step\n",
            "Epoch 8/100\n",
            "182/182 - 44s - loss: 0.0916 - acc: 0.4336 - val_loss: 0.0901 - val_acc: 0.4449 - 44s/epoch - 242ms/step\n",
            "Epoch 9/100\n",
            "182/182 - 52s - loss: 0.0911 - acc: 0.4333 - val_loss: 0.0892 - val_acc: 0.4465 - 52s/epoch - 288ms/step\n",
            "Epoch 10/100\n",
            "182/182 - 50s - loss: 0.0904 - acc: 0.4329 - val_loss: 0.0884 - val_acc: 0.4461 - 50s/epoch - 274ms/step\n",
            "Epoch 11/100\n",
            "182/182 - 51s - loss: 0.0895 - acc: 0.4340 - val_loss: 0.0875 - val_acc: 0.4437 - 51s/epoch - 278ms/step\n",
            "Epoch 12/100\n",
            "182/182 - 50s - loss: 0.0886 - acc: 0.4402 - val_loss: 0.0864 - val_acc: 0.4449 - 50s/epoch - 275ms/step\n",
            "Epoch 13/100\n",
            "182/182 - 45s - loss: 0.0874 - acc: 0.4536 - val_loss: 0.0851 - val_acc: 0.4574 - 45s/epoch - 248ms/step\n",
            "Epoch 14/100\n",
            "182/182 - 49s - loss: 0.0861 - acc: 0.4799 - val_loss: 0.0834 - val_acc: 0.5078 - 49s/epoch - 271ms/step\n",
            "Epoch 15/100\n",
            "182/182 - 44s - loss: 0.0845 - acc: 0.5108 - val_loss: 0.0817 - val_acc: 0.5172 - 44s/epoch - 240ms/step\n",
            "Epoch 16/100\n",
            "182/182 - 50s - loss: 0.0827 - acc: 0.5261 - val_loss: 0.0801 - val_acc: 0.5406 - 50s/epoch - 276ms/step\n",
            "Epoch 17/100\n",
            "182/182 - 51s - loss: 0.0808 - acc: 0.5447 - val_loss: 0.0781 - val_acc: 0.5789 - 51s/epoch - 278ms/step\n",
            "Epoch 18/100\n",
            "182/182 - 50s - loss: 0.0788 - acc: 0.5633 - val_loss: 0.0764 - val_acc: 0.5863 - 50s/epoch - 275ms/step\n",
            "Epoch 19/100\n",
            "182/182 - 50s - loss: 0.0766 - acc: 0.5765 - val_loss: 0.0754 - val_acc: 0.5773 - 50s/epoch - 275ms/step\n",
            "Epoch 20/100\n",
            "182/182 - 51s - loss: 0.0745 - acc: 0.5827 - val_loss: 0.0731 - val_acc: 0.5859 - 51s/epoch - 281ms/step\n",
            "Epoch 21/100\n",
            "182/182 - 51s - loss: 0.0724 - acc: 0.5867 - val_loss: 0.0719 - val_acc: 0.5820 - 51s/epoch - 281ms/step\n",
            "Epoch 22/100\n",
            "182/182 - 50s - loss: 0.0702 - acc: 0.6008 - val_loss: 0.0713 - val_acc: 0.5949 - 50s/epoch - 276ms/step\n",
            "Epoch 23/100\n",
            "182/182 - 51s - loss: 0.0683 - acc: 0.6220 - val_loss: 0.0702 - val_acc: 0.6039 - 51s/epoch - 281ms/step\n",
            "Epoch 24/100\n",
            "182/182 - 44s - loss: 0.0664 - acc: 0.6410 - val_loss: 0.0699 - val_acc: 0.6039 - 44s/epoch - 244ms/step\n",
            "Epoch 25/100\n",
            "182/182 - 51s - loss: 0.0647 - acc: 0.6499 - val_loss: 0.0684 - val_acc: 0.6184 - 51s/epoch - 281ms/step\n",
            "Epoch 26/100\n",
            "182/182 - 50s - loss: 0.0632 - acc: 0.6556 - val_loss: 0.0682 - val_acc: 0.6195 - 50s/epoch - 274ms/step\n",
            "Epoch 27/100\n",
            "182/182 - 44s - loss: 0.0619 - acc: 0.6652 - val_loss: 0.0681 - val_acc: 0.6199 - 44s/epoch - 240ms/step\n",
            "Epoch 28/100\n",
            "182/182 - 50s - loss: 0.0606 - acc: 0.6733 - val_loss: 0.0673 - val_acc: 0.6242 - 50s/epoch - 274ms/step\n",
            "Epoch 29/100\n",
            "182/182 - 50s - loss: 0.0593 - acc: 0.6831 - val_loss: 0.0671 - val_acc: 0.6297 - 50s/epoch - 277ms/step\n",
            "Epoch 30/100\n",
            "182/182 - 50s - loss: 0.0581 - acc: 0.6914 - val_loss: 0.0665 - val_acc: 0.6316 - 50s/epoch - 274ms/step\n",
            "Epoch 31/100\n",
            "182/182 - 52s - loss: 0.0571 - acc: 0.6947 - val_loss: 0.0655 - val_acc: 0.6375 - 52s/epoch - 284ms/step\n",
            "Epoch 32/100\n",
            "182/182 - 50s - loss: 0.0559 - acc: 0.6995 - val_loss: 0.0651 - val_acc: 0.6367 - 50s/epoch - 275ms/step\n",
            "Epoch 33/100\n",
            "182/182 - 43s - loss: 0.0549 - acc: 0.7024 - val_loss: 0.0647 - val_acc: 0.6355 - 43s/epoch - 239ms/step\n",
            "Epoch 34/100\n",
            "182/182 - 44s - loss: 0.0538 - acc: 0.7069 - val_loss: 0.0648 - val_acc: 0.6297 - 44s/epoch - 239ms/step\n",
            "Epoch 35/100\n",
            "182/182 - 43s - loss: 0.0530 - acc: 0.7103 - val_loss: 0.0636 - val_acc: 0.6387 - 43s/epoch - 238ms/step\n",
            "Epoch 36/100\n",
            "182/182 - 50s - loss: 0.0521 - acc: 0.7131 - val_loss: 0.0637 - val_acc: 0.6352 - 50s/epoch - 273ms/step\n",
            "Epoch 37/100\n",
            "182/182 - 50s - loss: 0.0511 - acc: 0.7207 - val_loss: 0.0627 - val_acc: 0.6363 - 50s/epoch - 275ms/step\n",
            "Epoch 38/100\n",
            "182/182 - 43s - loss: 0.0501 - acc: 0.7229 - val_loss: 0.0622 - val_acc: 0.6375 - 43s/epoch - 235ms/step\n",
            "Epoch 39/100\n",
            "182/182 - 51s - loss: 0.0492 - acc: 0.7286 - val_loss: 0.0613 - val_acc: 0.6324 - 51s/epoch - 282ms/step\n",
            "Epoch 40/100\n",
            "182/182 - 44s - loss: 0.0484 - acc: 0.7317 - val_loss: 0.0611 - val_acc: 0.6344 - 44s/epoch - 242ms/step\n",
            "Epoch 41/100\n",
            "182/182 - 42s - loss: 0.0474 - acc: 0.7353 - val_loss: 0.0604 - val_acc: 0.6297 - 42s/epoch - 233ms/step\n",
            "Epoch 42/100\n",
            "182/182 - 44s - loss: 0.0466 - acc: 0.7369 - val_loss: 0.0588 - val_acc: 0.6355 - 44s/epoch - 243ms/step\n",
            "Epoch 43/100\n",
            "182/182 - 44s - loss: 0.0455 - acc: 0.7412 - val_loss: 0.0587 - val_acc: 0.6309 - 44s/epoch - 244ms/step\n",
            "Epoch 44/100\n",
            "182/182 - 50s - loss: 0.0448 - acc: 0.7438 - val_loss: 0.0579 - val_acc: 0.6398 - 50s/epoch - 272ms/step\n",
            "Epoch 45/100\n",
            "182/182 - 44s - loss: 0.0440 - acc: 0.7489 - val_loss: 0.0579 - val_acc: 0.6336 - 44s/epoch - 241ms/step\n",
            "Epoch 46/100\n",
            "182/182 - 50s - loss: 0.0431 - acc: 0.7598 - val_loss: 0.0572 - val_acc: 0.6371 - 50s/epoch - 277ms/step\n",
            "Epoch 47/100\n",
            "182/182 - 43s - loss: 0.0423 - acc: 0.7672 - val_loss: 0.0568 - val_acc: 0.6527 - 43s/epoch - 234ms/step\n",
            "Epoch 48/100\n",
            "182/182 - 43s - loss: 0.0415 - acc: 0.7751 - val_loss: 0.0575 - val_acc: 0.6348 - 43s/epoch - 235ms/step\n",
            "Epoch 49/100\n",
            "182/182 - 43s - loss: 0.0407 - acc: 0.7844 - val_loss: 0.0558 - val_acc: 0.6863 - 43s/epoch - 235ms/step\n",
            "Epoch 50/100\n",
            "182/182 - 49s - loss: 0.0399 - acc: 0.7934 - val_loss: 0.0553 - val_acc: 0.7004 - 49s/epoch - 271ms/step\n",
            "Epoch 51/100\n",
            "182/182 - 50s - loss: 0.0392 - acc: 0.8025 - val_loss: 0.0548 - val_acc: 0.7078 - 50s/epoch - 275ms/step\n",
            "Epoch 52/100\n",
            "182/182 - 50s - loss: 0.0383 - acc: 0.8101 - val_loss: 0.0545 - val_acc: 0.7063 - 50s/epoch - 275ms/step\n",
            "Epoch 53/100\n",
            "182/182 - 50s - loss: 0.0376 - acc: 0.8169 - val_loss: 0.0539 - val_acc: 0.7207 - 50s/epoch - 275ms/step\n",
            "Epoch 54/100\n",
            "182/182 - 44s - loss: 0.0370 - acc: 0.8213 - val_loss: 0.0537 - val_acc: 0.7305 - 44s/epoch - 243ms/step\n",
            "Epoch 55/100\n",
            "182/182 - 44s - loss: 0.0363 - acc: 0.8257 - val_loss: 0.0530 - val_acc: 0.7418 - 44s/epoch - 240ms/step\n",
            "Epoch 56/100\n",
            "182/182 - 50s - loss: 0.0356 - acc: 0.8314 - val_loss: 0.0536 - val_acc: 0.7211 - 50s/epoch - 273ms/step\n",
            "Epoch 57/100\n",
            "182/182 - 44s - loss: 0.0348 - acc: 0.8340 - val_loss: 0.0526 - val_acc: 0.7277 - 44s/epoch - 244ms/step\n",
            "Epoch 58/100\n",
            "182/182 - 51s - loss: 0.0343 - acc: 0.8364 - val_loss: 0.0525 - val_acc: 0.7336 - 51s/epoch - 281ms/step\n",
            "Epoch 59/100\n",
            "182/182 - 42s - loss: 0.0335 - acc: 0.8411 - val_loss: 0.0521 - val_acc: 0.7355 - 42s/epoch - 233ms/step\n",
            "Epoch 60/100\n",
            "182/182 - 43s - loss: 0.0328 - acc: 0.8443 - val_loss: 0.0507 - val_acc: 0.7449 - 43s/epoch - 239ms/step\n",
            "Epoch 61/100\n",
            "182/182 - 44s - loss: 0.0323 - acc: 0.8485 - val_loss: 0.0508 - val_acc: 0.7344 - 44s/epoch - 239ms/step\n",
            "Epoch 62/100\n",
            "182/182 - 51s - loss: 0.0316 - acc: 0.8528 - val_loss: 0.0505 - val_acc: 0.7414 - 51s/epoch - 279ms/step\n",
            "Epoch 63/100\n",
            "182/182 - 42s - loss: 0.0312 - acc: 0.8566 - val_loss: 0.0493 - val_acc: 0.7492 - 42s/epoch - 230ms/step\n",
            "Epoch 64/100\n",
            "182/182 - 43s - loss: 0.0306 - acc: 0.8595 - val_loss: 0.0497 - val_acc: 0.7367 - 43s/epoch - 234ms/step\n",
            "Epoch 65/100\n",
            "182/182 - 49s - loss: 0.0300 - acc: 0.8631 - val_loss: 0.0490 - val_acc: 0.7523 - 49s/epoch - 271ms/step\n",
            "Epoch 66/100\n",
            "182/182 - 44s - loss: 0.0295 - acc: 0.8669 - val_loss: 0.0489 - val_acc: 0.7398 - 44s/epoch - 240ms/step\n",
            "Epoch 67/100\n",
            "182/182 - 44s - loss: 0.0289 - acc: 0.8714 - val_loss: 0.0483 - val_acc: 0.7461 - 44s/epoch - 240ms/step\n",
            "Epoch 68/100\n",
            "182/182 - 43s - loss: 0.0284 - acc: 0.8712 - val_loss: 0.0480 - val_acc: 0.7547 - 43s/epoch - 236ms/step\n",
            "Epoch 69/100\n",
            "182/182 - 50s - loss: 0.0280 - acc: 0.8746 - val_loss: 0.0481 - val_acc: 0.7523 - 50s/epoch - 273ms/step\n",
            "Epoch 70/100\n",
            "182/182 - 49s - loss: 0.0275 - acc: 0.8767 - val_loss: 0.0476 - val_acc: 0.7523 - 49s/epoch - 272ms/step\n",
            "Epoch 71/100\n",
            "182/182 - 42s - loss: 0.0270 - acc: 0.8781 - val_loss: 0.0475 - val_acc: 0.7516 - 42s/epoch - 232ms/step\n",
            "Epoch 72/100\n",
            "182/182 - 44s - loss: 0.0265 - acc: 0.8819 - val_loss: 0.0474 - val_acc: 0.7516 - 44s/epoch - 241ms/step\n",
            "Epoch 73/100\n",
            "182/182 - 43s - loss: 0.0261 - acc: 0.8850 - val_loss: 0.0468 - val_acc: 0.7598 - 43s/epoch - 236ms/step\n",
            "Epoch 74/100\n",
            "182/182 - 43s - loss: 0.0257 - acc: 0.8860 - val_loss: 0.0467 - val_acc: 0.7566 - 43s/epoch - 234ms/step\n",
            "Epoch 75/100\n",
            "182/182 - 43s - loss: 0.0253 - acc: 0.8900 - val_loss: 0.0463 - val_acc: 0.7570 - 43s/epoch - 234ms/step\n",
            "Epoch 76/100\n",
            "182/182 - 50s - loss: 0.0249 - acc: 0.8929 - val_loss: 0.0463 - val_acc: 0.7605 - 50s/epoch - 273ms/step\n",
            "Epoch 77/100\n",
            "182/182 - 43s - loss: 0.0244 - acc: 0.8975 - val_loss: 0.0462 - val_acc: 0.7496 - 43s/epoch - 238ms/step\n",
            "Epoch 78/100\n",
            "182/182 - 41s - loss: 0.0240 - acc: 0.9001 - val_loss: 0.0460 - val_acc: 0.7551 - 41s/epoch - 225ms/step\n",
            "Epoch 79/100\n",
            "182/182 - 50s - loss: 0.0237 - acc: 0.9027 - val_loss: 0.0457 - val_acc: 0.7512 - 50s/epoch - 277ms/step\n",
            "Epoch 80/100\n",
            "182/182 - 49s - loss: 0.0234 - acc: 0.9046 - val_loss: 0.0451 - val_acc: 0.7590 - 49s/epoch - 271ms/step\n",
            "Epoch 81/100\n",
            "182/182 - 49s - loss: 0.0230 - acc: 0.9049 - val_loss: 0.0444 - val_acc: 0.7570 - 49s/epoch - 270ms/step\n",
            "Epoch 82/100\n",
            "182/182 - 41s - loss: 0.0226 - acc: 0.9082 - val_loss: 0.0456 - val_acc: 0.7523 - 41s/epoch - 227ms/step\n",
            "Epoch 83/100\n",
            "182/182 - 45s - loss: 0.0223 - acc: 0.9117 - val_loss: 0.0450 - val_acc: 0.7586 - 45s/epoch - 245ms/step\n",
            "Epoch 84/100\n",
            "182/182 - 52s - loss: 0.0219 - acc: 0.9117 - val_loss: 0.0450 - val_acc: 0.7535 - 52s/epoch - 283ms/step\n",
            "Epoch 85/100\n",
            "182/182 - 50s - loss: 0.0215 - acc: 0.9158 - val_loss: 0.0443 - val_acc: 0.7719 - 50s/epoch - 272ms/step\n",
            "Epoch 86/100\n",
            "182/182 - 50s - loss: 0.0212 - acc: 0.9184 - val_loss: 0.0441 - val_acc: 0.7828 - 50s/epoch - 274ms/step\n",
            "Epoch 87/100\n",
            "182/182 - 44s - loss: 0.0208 - acc: 0.9191 - val_loss: 0.0444 - val_acc: 0.7691 - 44s/epoch - 240ms/step\n",
            "Epoch 88/100\n",
            "182/182 - 53s - loss: 0.0204 - acc: 0.9211 - val_loss: 0.0445 - val_acc: 0.7734 - 53s/epoch - 289ms/step\n",
            "Epoch 89/100\n",
            "182/182 - 43s - loss: 0.0201 - acc: 0.9211 - val_loss: 0.0437 - val_acc: 0.7809 - 43s/epoch - 237ms/step\n",
            "Epoch 90/100\n",
            "182/182 - 50s - loss: 0.0198 - acc: 0.9215 - val_loss: 0.0437 - val_acc: 0.7844 - 50s/epoch - 275ms/step\n",
            "Epoch 91/100\n",
            "182/182 - 50s - loss: 0.0194 - acc: 0.9230 - val_loss: 0.0432 - val_acc: 0.7867 - 50s/epoch - 273ms/step\n",
            "Epoch 92/100\n",
            "182/182 - 50s - loss: 0.0191 - acc: 0.9263 - val_loss: 0.0433 - val_acc: 0.7828 - 50s/epoch - 277ms/step\n",
            "Epoch 93/100\n",
            "182/182 - 49s - loss: 0.0189 - acc: 0.9282 - val_loss: 0.0431 - val_acc: 0.7875 - 49s/epoch - 270ms/step\n",
            "Epoch 94/100\n",
            "182/182 - 42s - loss: 0.0185 - acc: 0.9299 - val_loss: 0.0433 - val_acc: 0.7848 - 42s/epoch - 232ms/step\n",
            "Epoch 95/100\n",
            "182/182 - 49s - loss: 0.0183 - acc: 0.9294 - val_loss: 0.0428 - val_acc: 0.7863 - 49s/epoch - 271ms/step\n",
            "Epoch 96/100\n",
            "182/182 - 43s - loss: 0.0180 - acc: 0.9315 - val_loss: 0.0428 - val_acc: 0.7867 - 43s/epoch - 234ms/step\n",
            "Epoch 97/100\n",
            "182/182 - 43s - loss: 0.0177 - acc: 0.9339 - val_loss: 0.0431 - val_acc: 0.7848 - 43s/epoch - 239ms/step\n",
            "Epoch 98/100\n",
            "182/182 - 49s - loss: 0.0174 - acc: 0.9342 - val_loss: 0.0428 - val_acc: 0.7879 - 49s/epoch - 271ms/step\n",
            "Epoch 99/100\n",
            "182/182 - 44s - loss: 0.0171 - acc: 0.9356 - val_loss: 0.0425 - val_acc: 0.7852 - 44s/epoch - 239ms/step\n",
            "Epoch 100/100\n",
            "182/182 - 43s - loss: 0.0169 - acc: 0.9363 - val_loss: 0.0421 - val_acc: 0.7891 - 43s/epoch - 235ms/step\n"
          ]
        }
      ],
      "source": [
        "history = model.fit_generator(\n",
        "train_generator,\n",
        "steps_per_epoch=182,\n",
        "epochs=100,\n",
        "validation_data=validation_generator,\n",
        "validation_steps=80,\n",
        "verbose=2)"
      ]
    },
    {
      "cell_type": "code",
      "execution_count": null,
      "metadata": {
        "colab": {
          "base_uri": "https://localhost:8080/",
          "height": 904
        },
        "id": "AYudiECkfjTt",
        "outputId": "ab448670-e61c-4ec7-c838-245f01fe19c5"
      },
      "outputs": [
        {
          "data": {
            "text/plain": [
              "<matplotlib.legend.Legend at 0x7f3dc4b9ba60>"
            ]
          },
          "execution_count": 20,
          "metadata": {},
          "output_type": "execute_result"
        },
        {
          "data": {
            "image/png": "[encoded data removed]",
            "text/plain": [
              "<Figure size 640x480 with 1 Axes>"
            ]
          },
          "metadata": {},
          "output_type": "display_data"
        },
        {
          "data": {
            "image/png": "[encoded data removed]",
            "text/plain": [
              "<Figure size 640x480 with 1 Axes>"
            ]
          },
          "metadata": {},
          "output_type": "display_data"
        }
      ],
      "source": [
        "import matplotlib.pyplot as plt\n",
        "acc = history.history['acc']\n",
        "val_acc = history.history['val_acc']\n",
        "loss = history.history['loss']\n",
        "val_loss = history.history['val_loss']\n",
        "epochs = range(len(acc))\n",
        "plt.plot(epochs, acc, color='b', label='Train Accuracy')\n",
        "plt.plot(epochs, val_acc, color='r', label='Validation Accuracy')\n",
        "plt.title('Training and validation accuracy')\n",
        "plt.legend()\n",
        "plt.figure()\n",
        "plt.plot(epochs, loss, color='b', label='Train Loss')\n",
        "plt.plot(epochs, val_loss, color='r', label='Validation Loss')\n",
        "plt.title('Training and validation loss')\n",
        "plt.legend()"
      ]
    },
    {
      "cell_type": "code",
      "execution_count": null,
      "metadata": {
        "colab": {
          "base_uri": "https://localhost:8080/"
        },
        "id": "HgwDu5FD3WdQ",
        "outputId": "9ddc7b4a-a0f1-43fb-9e0f-9f1621674fa4"
      },
      "outputs": [
        {
          "name": "stdout",
          "output_type": "stream",
          "text": [
            "['loss', 'acc']\n"
          ]
        },
        {
          "name": "stderr",
          "output_type": "stream",
          "text": [
            "/usr/local/lib/python3.10/dist-packages/keras/src/engine/training.py:3079: UserWarning: You are saving your model as an HDF5 file via `model.save()`. This file format is considered legacy. We recommend using instead the native Keras format, e.g. `model.save('my_model.keras')`.\n",
            "  saving_api.save_model(\n"
          ]
        }
      ],
      "source": [
        "model.save(\"CNN.h5\")\n",
        "print(model.metrics_names)"
      ]
    },
    {
      "cell_type": "code",
      "execution_count": null,
      "metadata": {
        "colab": {
          "base_uri": "https://localhost:8080/"
        },
        "id": "POEreMxQfmyG",
        "outputId": "10f93fe5-b645-4284-fd4c-cdc5648dc4ec"
      },
      "outputs": [
        {
          "name": "stdout",
          "output_type": "stream",
          "text": [
            "1/1 [==============================] - 0s 212ms/step\n",
            "Nilai Output Units:\n",
            " [[0.01200041 0.17478848 0.01660292 0.6939902  0.05068827 0.01280536\n",
            "  0.00522798 0.03389641]]\n",
            "\n",
            "Predicted : 3\n"
          ]
        }
      ],
      "source": [
        "from keras.preprocessing.image import img_to_array, load_img\n",
        "import numpy as np\n",
        "img = load_img('/content/drive/MyDrive/CNN_Image4_5/koridor-lt4-classify-main/single_prediction/lift2.jpg', False, target_size=(100,50))\n",
        "x = img_to_array(img)\n",
        "x = np.expand_dims(x, axis=0)\n",
        "preds = model.predict(x)\n",
        "print(\"Nilai Output Units:\\n\", preds)\n",
        "index_preds = np.argmax(preds)\n",
        "print(\"\\nPredicted :\", index_preds)"
      ]
    },
    {
      "cell_type": "code",
      "execution_count": null,
      "metadata": {
        "colab": {
          "base_uri": "https://localhost:8080/"
        },
        "id": "vbaO5MS4l9iw",
        "outputId": "2b66fa3d-ce69-4068-d536-f4d780b0bbba"
      },
      "outputs": [
        {
          "name": "stdout",
          "output_type": "stream",
          "text": [
            "1/1 [==============================] - 0s 37ms/step\n",
            "Nilai Output Units:\n",
            " [[3.2869717e-03 4.3286558e-02 8.5781330e-01 3.7826054e-02 5.0513007e-02\n",
            "  8.4656023e-04 3.5198713e-03 2.9076599e-03]]\n",
            "\n",
            "Predicted : 2\n"
          ]
        }
      ],
      "source": [
        "from keras.preprocessing.image import img_to_array, load_img\n",
        "import numpy as np\n",
        "img = load_img('/content/drive/MyDrive/CNN_Image4_5/koridor-lt4-classify-main/single_prediction/apar.jpg', False, target_size=(100,50))\n",
        "x = img_to_array(img)\n",
        "x = np.expand_dims(x, axis=0)\n",
        "preds = model.predict(x)\n",
        "print(\"Nilai Output Units:\\n\", preds)\n",
        "index_preds = np.argmax(preds)\n",
        "print(\"\\nPredicted :\", index_preds)"
      ]
    },
    {
      "cell_type": "code",
      "execution_count": null,
      "metadata": {
        "colab": {
          "base_uri": "https://localhost:8080/"
        },
        "id": "lmDkGLpSmd09",
        "outputId": "21cd9632-7e9b-4adf-f5ed-2743a9dae7b1"
      },
      "outputs": [
        {
          "name": "stdout",
          "output_type": "stream",
          "text": [
            "1/1 [==============================] - 0s 30ms/step\n",
            "Nilai Output Units:\n",
            " [[0.00281124 0.08900591 0.81607294 0.0363622  0.01008226 0.01920047\n",
            "  0.01862831 0.00783667]]\n",
            "\n",
            "Predicted : 2\n"
          ]
        }
      ],
      "source": [
        "from keras.preprocessing.image import img_to_array, load_img\n",
        "import numpy as np\n",
        "img = load_img('/content/drive/MyDrive/CNN_Image4_5/koridor-lt4-classify-main/single_prediction/koridor2.jpg', False, target_size=(100,50))\n",
        "x = img_to_array(img)\n",
        "x = np.expand_dims(x, axis=0)\n",
        "preds = model.predict(x)\n",
        "print(\"Nilai Output Units:\\n\", preds)\n",
        "index_preds = np.argmax(preds)\n",
        "print(\"\\nPredicted :\", index_preds)"
      ]
    },
    {
      "cell_type": "code",
      "execution_count": null,
      "metadata": {
        "colab": {
          "base_uri": "https://localhost:8080/"
        },
        "id": "GseHQ_2uoChH",
        "outputId": "6c9ece55-1c07-4a36-c824-d7f8325c1fc5"
      },
      "outputs": [
        {
          "name": "stdout",
          "output_type": "stream",
          "text": [
            "1/1 [==============================] - 0s 17ms/step\n",
            "Nilai Output Units:\n",
            " [[0.00433268 0.02083785 0.04258682 0.03877524 0.867152   0.00396623\n",
            "  0.01931831 0.00303099]]\n",
            "\n",
            "Predicted : 4\n"
          ]
        }
      ],
      "source": [
        "from keras.preprocessing.image import img_to_array, load_img\n",
        "import numpy as np\n",
        "img = load_img('/content/drive/MyDrive/CNN_Image4_5/koridor-lt4-classify-main/single_prediction/orang2.jpg', False, target_size=(100,50))\n",
        "x = img_to_array(img)\n",
        "x = np.expand_dims(x, axis=0)\n",
        "preds = model.predict(x)\n",
        "print(\"Nilai Output Units:\\n\", preds)\n",
        "index_preds = np.argmax(preds)\n",
        "print(\"\\nPredicted :\", index_preds)"
      ]
    },
    {
      "cell_type": "code",
      "execution_count": null,
      "metadata": {
        "colab": {
          "base_uri": "https://localhost:8080/"
        },
        "id": "UtA9iaubmqLR",
        "outputId": "b40b2a9a-159c-40fa-ba07-d82b0d856e7d"
      },
      "outputs": [
        {
          "name": "stdout",
          "output_type": "stream",
          "text": [
            "1/1 [==============================] - 0s 28ms/step\n",
            "Nilai Output Units:\n",
            " [[0.0076678  0.07125185 0.02327123 0.04817224 0.03950533 0.7096797\n",
            "  0.05916364 0.04128814]]\n",
            "\n",
            "Predicted : 5\n"
          ]
        }
      ],
      "source": [
        "from keras.preprocessing.image import img_to_array, load_img\n",
        "import numpy as np\n",
        "img = load_img('/content/drive/MyDrive/CNN_Image4_5/koridor-lt4-classify-main/single_prediction/pintu_darurat.jpg', False, target_size=(100,50))\n",
        "x = img_to_array(img)\n",
        "x = np.expand_dims(x, axis=0)\n",
        "preds = model.predict(x)\n",
        "print(\"Nilai Output Units:\\n\", preds)\n",
        "index_preds = np.argmax(preds)\n",
        "print(\"\\nPredicted :\", index_preds)"
      ]
    },
    {
      "cell_type": "code",
      "execution_count": null,
      "metadata": {
        "colab": {
          "base_uri": "https://localhost:8080/"
        },
        "id": "3yg9xju2oUtF",
        "outputId": "6ccbb2c0-c47a-48e5-8437-346746dd2710"
      },
      "outputs": [
        {
          "name": "stdout",
          "output_type": "stream",
          "text": [
            "1/1 [==============================] - 0s 21ms/step\n",
            "Nilai Output Units:\n",
            " [[0.00313242 0.03387336 0.01484561 0.02504593 0.00596474 0.01442231\n",
            "  0.03334374 0.86937183]]\n",
            "\n",
            "Predicted : 7\n"
          ]
        }
      ],
      "source": [
        "from keras.preprocessing.image import img_to_array, load_img\n",
        "import numpy as np\n",
        "img = load_img('/content/drive/MyDrive/CNN_Image4_5/koridor-lt4-classify-main/single_prediction/tangga2.jpg', False, target_size=(100,50))\n",
        "x = img_to_array(img)\n",
        "x = np.expand_dims(x, axis=0)\n",
        "preds = model.predict(x)\n",
        "print(\"Nilai Output Units:\\n\", preds)\n",
        "index_preds = np.argmax(preds)\n",
        "print(\"\\nPredicted :\", index_preds)\n"
      ]
    }
  ],
  "metadata": {
    "accelerator": "GPU",
    "colab": {
      "gpuType": "T4",
      "provenance": []
    },
    "kernelspec": {
      "display_name": "Python 3",
      "name": "python3"
    },
    "language_info": {
      "name": "python"
    }
  },
  "nbformat": 4,
  "nbformat_minor": 0
}
