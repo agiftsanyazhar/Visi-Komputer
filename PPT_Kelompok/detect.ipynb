{
 "cells": [
  {
   "cell_type": "code",
   "execution_count": 6,
   "metadata": {},
   "outputs": [],
   "source": [
    "import cv2\n",
    "import numpy as np\n",
    "import tensorflow as tf\n",
    "import keras.utils as image\n",
    "import matplotlib.pyplot as plt"
   ]
  },
  {
   "cell_type": "code",
   "execution_count": 7,
   "metadata": {},
   "outputs": [],
   "source": [
    "# Load your trained model\n",
    "model = tf.keras.models.load_model(\"model/custom_model.h5\")"
   ]
  },
  {
   "cell_type": "code",
   "execution_count": 8,
   "metadata": {},
   "outputs": [],
   "source": [
    "# Set the input size based on your trained model\n",
    "input_size = (224, 224)"
   ]
  },
  {
   "cell_type": "code",
   "execution_count": 9,
   "metadata": {},
   "outputs": [],
   "source": [
    "# Create a dictionary for class labels\n",
    "class_labels = {\n",
    "    0: \"apple\",\n",
    "    1: \"banana\",\n",
    "    2: \"beetroot\",\n",
    "    3: \"bell pepper\",\n",
    "    4: \"cabbage\",\n",
    "    5: \"capsicum\",\n",
    "    6: \"carrot\",\n",
    "    7: \"cauliflower\",\n",
    "}"
   ]
  },
  {
   "cell_type": "code",
   "execution_count": 10,
   "metadata": {},
   "outputs": [],
   "source": [
    "# Function to perform real-time detection\n",
    "def real_time_detection():\n",
    "    cap = cv2.VideoCapture(0)  # 0 corresponds to the default camera\n",
    "\n",
    "    while True:\n",
    "        ret, frame = cap.read()\n",
    "\n",
    "        # Resize the frame to the input size expected by your model\n",
    "        resized_frame = cv2.resize(frame, input_size)\n",
    "\n",
    "        # Preprocess the frame\n",
    "        img_array = tf.keras.preprocessing.image.img_to_array(resized_frame)\n",
    "        img_array = np.expand_dims(img_array, axis=0)\n",
    "        img_array /= 255.0  # Normalize the image\n",
    "\n",
    "        # Perform prediction\n",
    "        predictions = model.predict(img_array)\n",
    "        score = predictions[0]\n",
    "        predicted_class = np.argmax(score)\n",
    "        predicted_label = class_labels[predicted_class]\n",
    "\n",
    "        # Display the frame with the predicted class\n",
    "        cv2.putText(\n",
    "            frame,\n",
    "            f\"Prediction: {predicted_label}\",\n",
    "            (10, 30),\n",
    "            cv2.FONT_HERSHEY_SIMPLEX,\n",
    "            1,\n",
    "            (0, 255, 0),\n",
    "            2,\n",
    "        )\n",
    "        cv2.imshow(\"Real-time Detection\", frame)\n",
    "\n",
    "        if cv2.waitKey(1) & 0xFF == ord(\"q\"):\n",
    "            break\n",
    "\n",
    "    cap.release()\n",
    "    cv2.destroyAllWindows()\n",
    "\n",
    "\n",
    "if __name__ == \"__main__\":\n",
    "    real_time_detection()"
   ]
  }
 ],
 "metadata": {
  "kernelspec": {
   "display_name": ".venv",
   "language": "python",
   "name": "python3"
  },
  "language_info": {
   "codemirror_mode": {
    "name": "ipython",
    "version": 3
   },
   "file_extension": ".py",
   "mimetype": "text/x-python",
   "name": "python",
   "nbconvert_exporter": "python",
   "pygments_lexer": "ipython3",
   "version": "3.9.13"
  },
  "orig_nbformat": 4
 },
 "nbformat": 4,
 "nbformat_minor": 2
}
