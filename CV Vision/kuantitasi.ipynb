{
 "cells": [
  {
   "cell_type": "code",
   "execution_count": 4,
   "metadata": {},
   "outputs": [],
   "source": [
    "from PIL import Image"
   ]
  },
  {
   "cell_type": "code",
   "execution_count": 5,
   "metadata": {},
   "outputs": [],
   "source": [
    "def quantize_image(input_image_path, output_image_path, num_colors):\n",
    "    gambar = Image.open(input_image_path)\n",
    "    quantized = gambar.convert(\"P\", palette=Image.ADAPTIVE, colors=num_colors)\n",
    "    quantized = quantized.convert(\"RGB\")\n",
    "    quantized.save(output_image_path, format=\"JPEG\")"
   ]
  },
  {
   "cell_type": "code",
   "execution_count": 6,
   "metadata": {},
   "outputs": [],
   "source": [
    "if __name__ == \"__main__\":\n",
    "    input_image_path = \"bola2.jpg\"\n",
    "    output_image_path = \"output.jpg\"\n",
    "    num_colors = 256\n",
    "    quantize_image(input_image_path, output_image_path, num_colors)"
   ]
  }
 ],
 "metadata": {
  "kernelspec": {
   "display_name": ".venv",
   "language": "python",
   "name": "python3"
  },
  "language_info": {
   "codemirror_mode": {
    "name": "ipython",
    "version": 3
   },
   "file_extension": ".py",
   "mimetype": "text/x-python",
   "name": "python",
   "nbconvert_exporter": "python",
   "pygments_lexer": "ipython3",
   "version": "3.9.13"
  },
  "orig_nbformat": 4
 },
 "nbformat": 4,
 "nbformat_minor": 2
}
