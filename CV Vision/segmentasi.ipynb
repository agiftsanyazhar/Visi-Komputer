{
 "cells": [
  {
   "cell_type": "code",
   "execution_count": 1,
   "metadata": {},
   "outputs": [],
   "source": [
    "import numpy as np\n",
    "import cv2"
   ]
  },
  {
   "cell_type": "code",
   "execution_count": 2,
   "metadata": {},
   "outputs": [
    {
     "ename": "KeyboardInterrupt",
     "evalue": "",
     "output_type": "error",
     "traceback": [
      "\u001b[1;31m---------------------------------------------------------------------------\u001b[0m",
      "\u001b[1;31mKeyboardInterrupt\u001b[0m                         Traceback (most recent call last)",
      "\u001b[1;32md:\\Kuliah\\D4 - PENS\\Semester 2\\Visi Komputer\\Tugas\\Praktikum\\CV Vision\\segmentasi.ipynb Cell 2\u001b[0m line \u001b[0;36m1\n\u001b[0;32m     <a href='vscode-notebook-cell:/d%3A/Kuliah/D4%20-%20PENS/Semester%202/Visi%20Komputer/Tugas/Praktikum/CV%20Vision/segmentasi.ipynb#W1sZmlsZQ%3D%3D?line=11'>12</a>\u001b[0m \u001b[39mif\u001b[39;00m \u001b[39mnot\u001b[39;00m ret:\n\u001b[0;32m     <a href='vscode-notebook-cell:/d%3A/Kuliah/D4%20-%20PENS/Semester%202/Visi%20Komputer/Tugas/Praktikum/CV%20Vision/segmentasi.ipynb#W1sZmlsZQ%3D%3D?line=12'>13</a>\u001b[0m     \u001b[39m# Video selesai, keluar dari loop\u001b[39;00m\n\u001b[0;32m     <a href='vscode-notebook-cell:/d%3A/Kuliah/D4%20-%20PENS/Semester%202/Visi%20Komputer/Tugas/Praktikum/CV%20Vision/segmentasi.ipynb#W1sZmlsZQ%3D%3D?line=13'>14</a>\u001b[0m     \u001b[39mbreak\u001b[39;00m\n\u001b[1;32m---> <a href='vscode-notebook-cell:/d%3A/Kuliah/D4%20-%20PENS/Semester%202/Visi%20Komputer/Tugas/Praktikum/CV%20Vision/segmentasi.ipynb#W1sZmlsZQ%3D%3D?line=15'>16</a>\u001b[0m fgmask \u001b[39m=\u001b[39m fgbg\u001b[39m.\u001b[39;49mapply(frame)\n\u001b[0;32m     <a href='vscode-notebook-cell:/d%3A/Kuliah/D4%20-%20PENS/Semester%202/Visi%20Komputer/Tugas/Praktikum/CV%20Vision/segmentasi.ipynb#W1sZmlsZQ%3D%3D?line=17'>18</a>\u001b[0m cv2\u001b[39m.\u001b[39mimshow(\u001b[39m\"\u001b[39m\u001b[39mfgmask\u001b[39m\u001b[39m\"\u001b[39m, fgmask)\n\u001b[0;32m     <a href='vscode-notebook-cell:/d%3A/Kuliah/D4%20-%20PENS/Semester%202/Visi%20Komputer/Tugas/Praktikum/CV%20Vision/segmentasi.ipynb#W1sZmlsZQ%3D%3D?line=18'>19</a>\u001b[0m cv2\u001b[39m.\u001b[39mimshow(\u001b[39m\"\u001b[39m\u001b[39mframe\u001b[39m\u001b[39m\"\u001b[39m, frame)\n",
      "\u001b[1;31mKeyboardInterrupt\u001b[0m: "
     ]
    }
   ],
   "source": [
    "cap = cv2.VideoCapture(\"videos4.mp4\")\n",
    "\n",
    "# Periksa apakah video terbuka dengan benar\n",
    "if not cap.isOpened():\n",
    "    print(\"Gagal membuka video\")\n",
    "    exit()\n",
    "\n",
    "fgbg = cv2.createBackgroundSubtractorMOG2()\n",
    "\n",
    "while True:\n",
    "    ret, frame = cap.read()\n",
    "    if not ret:\n",
    "        # Video selesai, keluar dari loop\n",
    "        break\n",
    "\n",
    "    fgmask = fgbg.apply(frame)\n",
    "\n",
    "    cv2.imshow(\"fgmask\", fgmask)\n",
    "    cv2.imshow(\"frame\", frame)\n",
    "\n",
    "    # Tambahkan penanganan tombol keyboard\n",
    "    k = cv2.waitKey(30) & 0xFF\n",
    "    if k == 27:\n",
    "        # Tekan tombol ESC untuk keluar\n",
    "        break\n",
    "\n",
    "# Setelah selesai, lepaskan sumber video dan tutup jendela tampilan\n",
    "cap.release()\n",
    "cv2.destroyAllWindows()"
   ]
  }
 ],
 "metadata": {
  "kernelspec": {
   "display_name": ".venv",
   "language": "python",
   "name": "python3"
  },
  "language_info": {
   "codemirror_mode": {
    "name": "ipython",
    "version": 3
   },
   "file_extension": ".py",
   "mimetype": "text/x-python",
   "name": "python",
   "nbconvert_exporter": "python",
   "pygments_lexer": "ipython3",
   "version": "3.9.13"
  },
  "orig_nbformat": 4
 },
 "nbformat": 4,
 "nbformat_minor": 2
}
