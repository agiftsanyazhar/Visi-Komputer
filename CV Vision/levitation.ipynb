{
 "cells": [
  {
   "cell_type": "code",
   "execution_count": 5,
   "metadata": {},
   "outputs": [],
   "source": [
    "# contoh simulasi\n",
    "import pygame\n",
    "import sys"
   ]
  },
  {
   "cell_type": "code",
   "execution_count": 6,
   "metadata": {},
   "outputs": [
    {
     "ename": "SystemExit",
     "evalue": "",
     "output_type": "error",
     "traceback": [
      "An exception has occurred, use %tb to see the full traceback.\n",
      "\u001b[1;31mSystemExit\u001b[0m\n"
     ]
    }
   ],
   "source": [
    "pygame.init()\n",
    "width, height = 400, 300\n",
    "screen = pygame.display.set_mode((width, height))\n",
    "bg_color = (0, 162, 92)\n",
    "x, y = width // 2, height // 2\n",
    "object_radius = 20\n",
    "x_speed, y_speed = 1, 1\n",
    "while True:\n",
    "    for event in pygame.event.get():\n",
    "        if event.type == pygame.QUIT:\n",
    "            pygame.quit()\n",
    "            sys.exit()\n",
    "    x += x_speed\n",
    "    y += y_speed\n",
    "    screen.fill(bg_color)\n",
    "    pygame.draw.circle(screen, (0, 0, 0), (x, y), object_radius)\n",
    "    pygame.display.flip()\n",
    "    pygame.time.delay(10)"
   ]
  }
 ],
 "metadata": {
  "kernelspec": {
   "display_name": ".venv",
   "language": "python",
   "name": "python3"
  },
  "language_info": {
   "codemirror_mode": {
    "name": "ipython",
    "version": 3
   },
   "file_extension": ".py",
   "mimetype": "text/x-python",
   "name": "python",
   "nbconvert_exporter": "python",
   "pygments_lexer": "ipython3",
   "version": "3.9.13"
  },
  "orig_nbformat": 4
 },
 "nbformat": 4,
 "nbformat_minor": 2
}
